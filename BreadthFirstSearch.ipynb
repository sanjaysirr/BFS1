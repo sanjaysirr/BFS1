{
  "nbformat": 4,
  "nbformat_minor": 0,
  "metadata": {
    "colab": {
      "provenance": []
    },
    "kernelspec": {
      "name": "python3",
      "display_name": "Python 3"
    },
    "language_info": {
      "name": "python"
    }
  },
  "cells": [
    {
      "cell_type": "code",
      "execution_count": 1,
      "metadata": {
        "colab": {
          "base_uri": "https://localhost:8080/"
        },
        "id": "W7dOLCRI9h_1",
        "outputId": "83ffce69-9b23-4a70-9568-f2f51be178f3"
      },
      "outputs": [
        {
          "output_type": "stream",
          "name": "stdout",
          "text": [
            "Breadth-First Search\n",
            "A B C D E F G H I J K L "
          ]
        }
      ],
      "source": [
        "graph = {\n",
        "    'A': ['B', 'C', 'D'],\n",
        "    'B': ['E', 'F'],\n",
        "    'C': ['G', 'H'],\n",
        "    'D': ['I'],\n",
        "    'E': [],\n",
        "    'F': ['J'],\n",
        "    'G': [],\n",
        "    'H': [],\n",
        "    'I': ['K', 'L'],\n",
        "    'J': [],\n",
        "    'K': [],\n",
        "    'L': []\n",
        "}\n",
        "\n",
        "visited = []\n",
        "queue = []\n",
        "\n",
        "def bfs(visited, graph, node):\n",
        "    visited.append(node)\n",
        "    queue.append(node)\n",
        "\n",
        "    while queue:\n",
        "        g = queue.pop(0)\n",
        "        print(g, end=\" \")\n",
        "\n",
        "        for neighbor in graph[g]:\n",
        "            if neighbor not in visited:\n",
        "                visited.append(neighbor)\n",
        "                queue.append(neighbor)\n",
        "\n",
        "print(\"Breadth-First Search\")\n",
        "bfs(visited, graph, 'A')\n"
      ]
    }
  ]
}